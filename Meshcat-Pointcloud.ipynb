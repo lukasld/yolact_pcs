{
 "cells": [
  {
   "cell_type": "code",
   "execution_count": null,
   "metadata": {},
   "outputs": [
    {
     "name": "stdout",
     "output_type": "stream",
     "text": [
      "You can open the visualizer by visiting the following URL:\n",
      "http://127.0.0.1:7001/static/\n"
     ]
    }
   ],
   "source": [
    "import numpy as np\n",
    "import os\n",
    "import time\n",
    "import cv2\n",
    "import os\n",
    "import time\n",
    "import meshcat\n",
    "import meshcat.geometry as g\n",
    "import meshcat.transformations as tf\n",
    "import urllib.request\n",
    "from meshcat.animation import Animation\n",
    "\n",
    "vis = meshcat.Visualizer().open()\n",
    "\n",
    "\n",
    "host_url = 'http://10.150.0.37:5000/video_feed_dpt'\n",
    "stream = urllib.request.urlopen(host_url)\n",
    "time.sleep(1)\n",
    "time_start = time.time()\n",
    "end_b = str.encode('%')\n",
    "\n",
    "bytes = b''\n",
    "#we use a while loop in order to. continue listen to the port to get deth data\n",
    "while True:  # show streamed images until Ctrl-C\n",
    "\n",
    "    bytes += stream.read(2**14)\n",
    "\n",
    "    a = bytes.find(b'\\xff\\xd8\\xf1')\n",
    "    b = bytes.find(b'\\xff\\xd9\\xf2')\n",
    "\n",
    "    if a != -1 and b != -1:\n",
    "\n",
    "        data = bytes[a+3:b]\n",
    "        bytes = bytes[b+3:]\n",
    "\n",
    "\n",
    "        arr = np.frombuffer(data, dtype=np.float32)\n",
    "        arr = np.reshape(arr, (76800,3))\n",
    "        \n",
    "        \n",
    "                \n",
    "    \n",
    "        #we use meshcat animation in order to read and plot data in realtime\n",
    "        anim = Animation()\n",
    "        c=0\n",
    "        with anim.at_frame(vis, 0) as frame:\n",
    "            c=c+1 #counter that sets an infinite animation\n",
    "\n",
    "        with anim.at_frame(vis, c) as frame:\n",
    "            #execute the animation\n",
    "            vis.set_animation(anim)\n",
    "\n",
    "            verts= arr.T\n",
    "\n",
    "            #plot the points\n",
    "            vis.set_object(g.Points(\n",
    "                g.PointsGeometry(verts, color=verts),\n",
    "                g.PointsMaterial()\n",
    "            ))"
   ]
  },
  {
   "cell_type": "code",
   "execution_count": null,
   "metadata": {},
   "outputs": [],
   "source": []
  },
  {
   "cell_type": "code",
   "execution_count": null,
   "metadata": {},
   "outputs": [],
   "source": []
  }
 ],
 "metadata": {
  "kernelspec": {
   "display_name": "Python 3",
   "language": "python",
   "name": "python3"
  },
  "language_info": {
   "codemirror_mode": {
    "name": "ipython",
    "version": 3
   },
   "file_extension": ".py",
   "mimetype": "text/x-python",
   "name": "python",
   "nbconvert_exporter": "python",
   "pygments_lexer": "ipython3",
   "version": "3.6.8"
  }
 },
 "nbformat": 4,
 "nbformat_minor": 2
}
