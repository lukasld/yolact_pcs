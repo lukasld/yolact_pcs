{
 "cells": [
  {
   "cell_type": "code",
   "execution_count": 1,
   "metadata": {},
   "outputs": [],
   "source": [
    "##We need to run these cells in order to get all the necessary imports"
   ]
  },
  {
   "cell_type": "code",
   "execution_count": 2,
   "metadata": {},
   "outputs": [
    {
     "name": "stdout",
     "output_type": "stream",
     "text": [
      "Requirement already satisfied: requests in /usr/lib/python3/dist-packages (2.18.4)\n",
      "\u001b[33mWARNING: You are using pip version 19.2.3, however version 19.3.1 is available.\n",
      "You should consider upgrading via the 'pip install --upgrade pip' command.\u001b[0m\n",
      "Note: you may need to restart the kernel to use updated packages.\n"
     ]
    }
   ],
   "source": [
    "pip install requests"
   ]
  },
  {
   "cell_type": "code",
   "execution_count": 3,
   "metadata": {},
   "outputs": [
    {
     "name": "stdout",
     "output_type": "stream",
     "text": [
      "Requirement already satisfied: opencv-python in /usr/local/lib/python3.6/dist-packages (4.1.2.30)\n",
      "Requirement already satisfied: numpy>=1.11.3 in /usr/local/lib/python3.6/dist-packages (from opencv-python) (1.17.2)\n",
      "\u001b[33mWARNING: You are using pip version 19.2.3, however version 19.3.1 is available.\n",
      "You should consider upgrading via the 'pip install --upgrade pip' command.\u001b[0m\n",
      "Note: you may need to restart the kernel to use updated packages.\n"
     ]
    }
   ],
   "source": [
    "pip install opencv-python"
   ]
  },
  {
   "cell_type": "code",
   "execution_count": 4,
   "metadata": {},
   "outputs": [
    {
     "name": "stdout",
     "output_type": "stream",
     "text": [
      "Requirement already satisfied: pyobb in /usr/local/lib/python3.6/dist-packages (1.0.2)\n",
      "Requirement already satisfied: numpy>=1.12 in /usr/local/lib/python3.6/dist-packages (from pyobb) (1.17.2)\n",
      "\u001b[33mWARNING: You are using pip version 19.2.3, however version 19.3.1 is available.\n",
      "You should consider upgrading via the 'pip install --upgrade pip' command.\u001b[0m\n",
      "Note: you may need to restart the kernel to use updated packages.\n"
     ]
    }
   ],
   "source": [
    "pip install pyobb"
   ]
  },
  {
   "cell_type": "code",
   "execution_count": 5,
   "metadata": {},
   "outputs": [
    {
     "name": "stdout",
     "output_type": "stream",
     "text": [
      "Requirement already satisfied: Pillow==2.2.1 in /usr/local/lib/python3.6/dist-packages (2.2.1)\n",
      "\u001b[33mWARNING: You are using pip version 19.2.3, however version 19.3.1 is available.\n",
      "You should consider upgrading via the 'pip install --upgrade pip' command.\u001b[0m\n",
      "Note: you may need to restart the kernel to use updated packages.\n"
     ]
    }
   ],
   "source": [
    "pip install Pillow==2.2.1"
   ]
  },
  {
   "cell_type": "code",
   "execution_count": 6,
   "metadata": {},
   "outputs": [],
   "source": [
    "from pydrake.systems.sensors import RgbdSensor, PixelType\n",
    "from pydrake.multibody.plant import MultibodyPlant\n",
    "\n",
    "from pydrake.math import RigidTransform, RotationMatrix, RollPitchYaw\n",
    "from pydrake.multibody.plant import MultibodyPlant, AddMultibodyPlantSceneGraph\n",
    "from pydrake.common import FindResourceOrThrow\n",
    "from pydrake.multibody.parsing import Parser\n",
    "from pydrake.perception import DepthImageToPointCloud, BaseField\n",
    "from pydrake.systems.framework import DiagramBuilder, AbstractValue\n",
    "from pydrake.geometry.render import (CameraProperties, DepthCameraProperties,\n",
    "                                     MakeRenderEngineVtk, RenderEngineVtkParams)\n",
    "from pydrake.systems.analysis import Simulator\n",
    "from pydrake.systems.meshcat_visualizer import (MeshcatVisualizer,\n",
    "    MeshcatPointCloudVisualizer, AddTriad)\n"
   ]
  },
  {
   "cell_type": "code",
   "execution_count": 7,
   "metadata": {},
   "outputs": [
    {
     "ename": "NameError",
     "evalue": "name 'os' is not defined",
     "output_type": "error",
     "traceback": [
      "\u001b[0;31m---------------------------------------------------------------------------\u001b[0m",
      "\u001b[0;31mNameError\u001b[0m                                 Traceback (most recent call last)",
      "\u001b[0;32m<ipython-input-7-eed3270ef2da>\u001b[0m in \u001b[0;36m<module>\u001b[0;34m\u001b[0m\n\u001b[1;32m     16\u001b[0m \u001b[0;34m\u001b[0m\u001b[0m\n\u001b[1;32m     17\u001b[0m \u001b[0;31m# Add a box to MultibodyPlant as the ground.\u001b[0m\u001b[0;34m\u001b[0m\u001b[0;34m\u001b[0m\u001b[0;34m\u001b[0m\u001b[0m\n\u001b[0;32m---> 18\u001b[0;31m ground_sdf_path = os.path.join(\n\u001b[0m\u001b[1;32m     19\u001b[0m     os.getcwd(), \"ground_box.sdf\")\n\u001b[1;32m     20\u001b[0m \u001b[0mparser\u001b[0m\u001b[0;34m.\u001b[0m\u001b[0mAddModelFromFile\u001b[0m\u001b[0;34m(\u001b[0m\u001b[0mground_sdf_path\u001b[0m\u001b[0;34m)\u001b[0m\u001b[0;34m\u001b[0m\u001b[0;34m\u001b[0m\u001b[0m\n",
      "\u001b[0;31mNameError\u001b[0m: name 'os' is not defined"
     ]
    }
   ],
   "source": [
    "# Construct a drake simulation diagram builder.\n",
    "builder = DiagramBuilder()\n",
    "\n",
    "# Construct empty MultibodyPlant.\n",
    "plant = MultibodyPlant(2e-3)\n",
    "_, scene_graph = AddMultibodyPlantSceneGraph(builder, plant=plant)\n",
    "parser = Parser(plant=plant, scene_graph=scene_graph)\n",
    "plant.mutable_gravity_field().set_gravity_vector([0, 0, 0])\n",
    "\n",
    "# Add iiwa to MultibodyPlant\n",
    "robot_sdf_path = FindResourceOrThrow(\n",
    "    \"drake/manipulation/models/iiwa_description/iiwa7/iiwa7_no_collision.sdf\")\n",
    "parser.AddModelFromFile(robot_sdf_path)\n",
    "plant.WeldFrames(A=plant.world_frame(),\n",
    "                 B=plant.GetFrameByName(\"iiwa_link_0\"))\n",
    "\n",
    "# Add a box to MultibodyPlant as the ground.\n",
    "ground_sdf_path = os.path.join(\n",
    "    os.getcwd(), \"ground_box.sdf\")\n",
    "parser.AddModelFromFile(ground_sdf_path)\n",
    "\n",
    "# Define pose of the box in world frame.\n",
    "X_WB = RigidTransform.Identity()\n",
    "X_WB.set_translation([0, -(2.5 - np.sqrt(2) - 0.1), -0.6])  # \"ground\"\n",
    "plant.WeldFrames(A=plant.world_frame(),\n",
    "                 B=plant.GetFrameByName(\"ground\"),\n",
    "                 X_AB=X_WB)\n",
    "\n",
    "# Finalize MultibodyPlant.\n",
    "plant.Finalize()"
   ]
  },
  {
   "cell_type": "code",
   "execution_count": null,
   "metadata": {},
   "outputs": [],
   "source": [
    "# Add meshcat visualizer to diagram.\n",
    "vis = builder.AddSystem(MeshcatVisualizer(\n",
    "    scene_graph, zmq_url=\"tcp://127.0.0.1:6000\"))\n",
    "\n",
    "builder.Connect(scene_graph.GetOutputPort(\"lcm_visualization\"),\n",
    "                vis.get_input_port(0))\n",
    "scene_pc_vis = builder.AddSystem(MeshcatPointCloudVisualizer(\n",
    "    vis, name=\"scene_point_cloud\"))\n",
    "builder.Connect(di2pc.GetOutputPort(\"point_cloud\"),\n",
    "                scene_pc_vis.GetInputPort(\"point_cloud_P\"))\n",
    "\n",
    "# Complete diagram construction.\n",
    "diagram = builder.Build()\n",
    "\n",
    "# Render diagram structure in a PDF file (saved in the directory of this notebook).\n",
    "RenderSystemWithGraphviz(diagram)"
   ]
  },
  {
   "cell_type": "code",
   "execution_count": null,
   "metadata": {},
   "outputs": [],
   "source": [
    "##############################################################################"
   ]
  },
  {
   "cell_type": "code",
   "execution_count": 9,
   "metadata": {},
   "outputs": [],
   "source": [
    "import requests\n",
    "import numpy as np\n",
    "import urllib\n",
    "\n",
    "\n",
    "# http call for the mask \n",
    "def get_mask(url):\n",
    "    response = requests.get(url)\n",
    "    if response is not None:\n",
    "        return np.frombuffer(response.content, dtype=np.uint8)"
   ]
  },
  {
   "cell_type": "code",
   "execution_count": 10,
   "metadata": {},
   "outputs": [],
   "source": [
    "def make_meshcat_color_array(N, r, g, b):\n",
    "    '''\n",
    "    Construct a color array to visualize a point cloud in meshcat  Args:\n",
    "    N: int. number of points to generate. Must be >= number of points in the\n",
    "      point cloud to color\n",
    "    r: float. The red value of the points, 0.0 <= r <= 1.0\n",
    "    g: float. The green value of the points, 0.0 <= g <= 1.0\n",
    "    b: float. The blue value of the points, 0.0 <= b <= 1.0  Returns:\n",
    "    3xN numpy array of the same color\n",
    "    '''\n",
    "    color = np.zeros((3, N))\n",
    "    color[0, :] = r\n",
    "    color[1, :] = g\n",
    "    color[2, :] = b  \n",
    "    return color"
   ]
  },
  {
   "cell_type": "code",
   "execution_count": 11,
   "metadata": {},
   "outputs": [],
   "source": [
    "# http call for the mask \n",
    "def get_box(url):\n",
    "    response = requests.get(url)\n",
    "    response = response.json()\n",
    "    val = response['box']\n",
    "    val = val.strip('][').split(',')\n",
    "    val = [int(x) for x in val]\n",
    "    if val is not None:\n",
    "        return val"
   ]
  },
  {
   "cell_type": "code",
   "execution_count": 12,
   "metadata": {},
   "outputs": [
    {
     "name": "stdout",
     "output_type": "stream",
     "text": [
      "You can open the visualizer by visiting the following URL:\n",
      "http://127.0.0.1:7001/static/\n"
     ]
    },
    {
     "ename": "KeyboardInterrupt",
     "evalue": "",
     "output_type": "error",
     "traceback": [
      "\u001b[0;31m---------------------------------------------------------------------------\u001b[0m",
      "\u001b[0;31mKeyboardInterrupt\u001b[0m                         Traceback (most recent call last)",
      "\u001b[0;32m<ipython-input-12-4f49d049cbf7>\u001b[0m in \u001b[0;36m<module>\u001b[0;34m\u001b[0m\n\u001b[1;32m    183\u001b[0m             \u001b[0;31m#plot the points\u001b[0m\u001b[0;34m\u001b[0m\u001b[0;34m\u001b[0m\u001b[0;34m\u001b[0m\u001b[0m\n\u001b[1;32m    184\u001b[0m \u001b[0;34m\u001b[0m\u001b[0m\n\u001b[0;32m--> 185\u001b[0;31m             \u001b[0mvis\u001b[0m\u001b[0;34m[\u001b[0m\u001b[0;34m'notfiltered'\u001b[0m\u001b[0;34m]\u001b[0m\u001b[0;34m.\u001b[0m\u001b[0mset_object\u001b[0m\u001b[0;34m(\u001b[0m\u001b[0mg\u001b[0m\u001b[0;34m.\u001b[0m\u001b[0mPointCloud\u001b[0m\u001b[0;34m(\u001b[0m\u001b[0mposition\u001b[0m\u001b[0;34m=\u001b[0m \u001b[0mnew_All_Points\u001b[0m\u001b[0;34m.\u001b[0m\u001b[0mT\u001b[0m\u001b[0;34m,\u001b[0m \u001b[0mcolor\u001b[0m\u001b[0;34m=\u001b[0m\u001b[0mmake_meshcat_color_array\u001b[0m\u001b[0;34m(\u001b[0m\u001b[0mnew_All_Points\u001b[0m\u001b[0;34m.\u001b[0m\u001b[0mshape\u001b[0m\u001b[0;34m[\u001b[0m\u001b[0;36m0\u001b[0m\u001b[0;34m]\u001b[0m\u001b[0;34m,\u001b[0m \u001b[0;36m1\u001b[0m\u001b[0;34m,\u001b[0m\u001b[0;36m1\u001b[0m\u001b[0;34m,\u001b[0m\u001b[0;36m0\u001b[0m\u001b[0;34m)\u001b[0m\u001b[0;34m,\u001b[0m\u001b[0msize\u001b[0m\u001b[0;34m=\u001b[0m \u001b[0;36m0.001\u001b[0m\u001b[0;34m)\u001b[0m\u001b[0;34m)\u001b[0m\u001b[0;34m\u001b[0m\u001b[0;34m\u001b[0m\u001b[0m\n\u001b[0m\u001b[1;32m    186\u001b[0m             \u001b[0mvis\u001b[0m\u001b[0;34m[\u001b[0m\u001b[0;34m'filtered'\u001b[0m\u001b[0;34m]\u001b[0m\u001b[0;34m.\u001b[0m\u001b[0mset_object\u001b[0m\u001b[0;34m(\u001b[0m\u001b[0mg\u001b[0m\u001b[0;34m.\u001b[0m\u001b[0mPointCloud\u001b[0m\u001b[0;34m(\u001b[0m\u001b[0mposition\u001b[0m\u001b[0;34m=\u001b[0m \u001b[0mnew_Point_cloud\u001b[0m\u001b[0;34m.\u001b[0m\u001b[0mT\u001b[0m\u001b[0;34m,\u001b[0m \u001b[0mcolor\u001b[0m\u001b[0;34m=\u001b[0m\u001b[0mmake_meshcat_color_array\u001b[0m\u001b[0;34m(\u001b[0m\u001b[0mnew_Point_cloud\u001b[0m\u001b[0;34m.\u001b[0m\u001b[0mshape\u001b[0m\u001b[0;34m[\u001b[0m\u001b[0;36m0\u001b[0m\u001b[0;34m]\u001b[0m\u001b[0;34m,\u001b[0m \u001b[0;36m1\u001b[0m\u001b[0;34m,\u001b[0m\u001b[0;36m0\u001b[0m\u001b[0;34m,\u001b[0m\u001b[0;36m0\u001b[0m\u001b[0;34m)\u001b[0m\u001b[0;34m,\u001b[0m \u001b[0msize\u001b[0m\u001b[0;34m=\u001b[0m \u001b[0;36m0.006\u001b[0m\u001b[0;34m)\u001b[0m\u001b[0;34m)\u001b[0m\u001b[0;34m\u001b[0m\u001b[0;34m\u001b[0m\u001b[0m\n\u001b[1;32m    187\u001b[0m \u001b[0;34m\u001b[0m\u001b[0m\n",
      "\u001b[0;32m/opt/drake/lib/python3.6/site-packages/meshcat/visualizer.py\u001b[0m in \u001b[0;36mset_object\u001b[0;34m(self, geometry, material)\u001b[0m\n\u001b[1;32m    136\u001b[0m \u001b[0;34m\u001b[0m\u001b[0m\n\u001b[1;32m    137\u001b[0m     \u001b[0;32mdef\u001b[0m \u001b[0mset_object\u001b[0m\u001b[0;34m(\u001b[0m\u001b[0mself\u001b[0m\u001b[0;34m,\u001b[0m \u001b[0mgeometry\u001b[0m\u001b[0;34m,\u001b[0m \u001b[0mmaterial\u001b[0m\u001b[0;34m=\u001b[0m\u001b[0;32mNone\u001b[0m\u001b[0;34m)\u001b[0m\u001b[0;34m:\u001b[0m\u001b[0;34m\u001b[0m\u001b[0;34m\u001b[0m\u001b[0m\n\u001b[0;32m--> 138\u001b[0;31m         \u001b[0;32mreturn\u001b[0m \u001b[0mself\u001b[0m\u001b[0;34m.\u001b[0m\u001b[0mwindow\u001b[0m\u001b[0;34m.\u001b[0m\u001b[0msend\u001b[0m\u001b[0;34m(\u001b[0m\u001b[0mSetObject\u001b[0m\u001b[0;34m(\u001b[0m\u001b[0mgeometry\u001b[0m\u001b[0;34m,\u001b[0m \u001b[0mmaterial\u001b[0m\u001b[0;34m,\u001b[0m \u001b[0mself\u001b[0m\u001b[0;34m.\u001b[0m\u001b[0mpath\u001b[0m\u001b[0;34m)\u001b[0m\u001b[0;34m)\u001b[0m\u001b[0;34m\u001b[0m\u001b[0;34m\u001b[0m\u001b[0m\n\u001b[0m\u001b[1;32m    139\u001b[0m \u001b[0;34m\u001b[0m\u001b[0m\n\u001b[1;32m    140\u001b[0m     \u001b[0;32mdef\u001b[0m \u001b[0mset_transform\u001b[0m\u001b[0;34m(\u001b[0m\u001b[0mself\u001b[0m\u001b[0;34m,\u001b[0m \u001b[0mmatrix\u001b[0m\u001b[0;34m=\u001b[0m\u001b[0mnp\u001b[0m\u001b[0;34m.\u001b[0m\u001b[0meye\u001b[0m\u001b[0;34m(\u001b[0m\u001b[0;36m4\u001b[0m\u001b[0;34m)\u001b[0m\u001b[0;34m)\u001b[0m\u001b[0;34m:\u001b[0m\u001b[0;34m\u001b[0m\u001b[0;34m\u001b[0m\u001b[0m\n",
      "\u001b[0;32m/opt/drake/lib/python3.6/site-packages/meshcat/visualizer.py\u001b[0m in \u001b[0;36msend\u001b[0;34m(self, command)\u001b[0m\n\u001b[1;32m     92\u001b[0m             \u001b[0mumsgpack\u001b[0m\u001b[0;34m.\u001b[0m\u001b[0mpackb\u001b[0m\u001b[0;34m(\u001b[0m\u001b[0mcmd_data\u001b[0m\u001b[0;34m)\u001b[0m\u001b[0;34m\u001b[0m\u001b[0;34m\u001b[0m\u001b[0m\n\u001b[1;32m     93\u001b[0m         ])\n\u001b[0;32m---> 94\u001b[0;31m         \u001b[0mself\u001b[0m\u001b[0;34m.\u001b[0m\u001b[0mzmq_socket\u001b[0m\u001b[0;34m.\u001b[0m\u001b[0mrecv\u001b[0m\u001b[0;34m(\u001b[0m\u001b[0;34m)\u001b[0m\u001b[0;34m\u001b[0m\u001b[0;34m\u001b[0m\u001b[0m\n\u001b[0m\u001b[1;32m     95\u001b[0m \u001b[0;34m\u001b[0m\u001b[0m\n\u001b[1;32m     96\u001b[0m \u001b[0;34m\u001b[0m\u001b[0m\n",
      "\u001b[0;32mzmq/backend/cython/socket.pyx\u001b[0m in \u001b[0;36mzmq.backend.cython.socket.Socket.recv\u001b[0;34m()\u001b[0m\n",
      "\u001b[0;32mzmq/backend/cython/socket.pyx\u001b[0m in \u001b[0;36mzmq.backend.cython.socket.Socket.recv\u001b[0;34m()\u001b[0m\n",
      "\u001b[0;32mzmq/backend/cython/socket.pyx\u001b[0m in \u001b[0;36mzmq.backend.cython.socket._recv_copy\u001b[0;34m()\u001b[0m\n",
      "\u001b[0;32m/usr/local/lib/python3.6/dist-packages/zmq/backend/cython/checkrc.pxd\u001b[0m in \u001b[0;36mzmq.backend.cython.checkrc._check_rc\u001b[0;34m()\u001b[0m\n",
      "\u001b[0;31mKeyboardInterrupt\u001b[0m: "
     ]
    }
   ],
   "source": [
    "import numpy as np\n",
    "import os\n",
    "import time\n",
    "import cv2\n",
    "import os\n",
    "import time\n",
    "import meshcat\n",
    "import meshcat.geometry as g\n",
    "import meshcat.transformations as tf\n",
    "from meshcat.animation import Animation\n",
    "from math import pi, cos, sin, sqrt\n",
    "from pyobb.obb import OBB\n",
    "from PIL import Image\n",
    "import matplotlib.pyplot as plt\n",
    "import requests\n",
    "\n",
    "vis = meshcat.Visualizer().open()\n",
    "\n",
    "# url to the server\n",
    "mask_url = \"http://10.150.0.37:5000/mask\" #mask url\n",
    "box_url = \"http://10.150.0.37:5000/box\" #mask url\n",
    "\n",
    "depth_url = 'http://10.150.0.37:5000/video_feed_dpt' #depth url\n",
    "\n",
    "stream = urllib.request.urlopen(depth_url) #stream\n",
    "\n",
    "# arrays for segmented and unsegmented points\n",
    "bbox_pos_pts = []\n",
    "bbox_clr_pts = []\n",
    "\n",
    "time.sleep(1)\n",
    "time_start = time.time()\n",
    "\n",
    "# bytes for the pointcloud, keeps the last pieces as well.\n",
    "bytes = b''\n",
    "\n",
    "# we use a while loop in order to. continue listen to the port to get deth data\n",
    "while True:  # show streamed images until Ctrl-C\n",
    "    \n",
    "    ############ MASKS MODIFICATION #############\n",
    "    \n",
    "    try:\n",
    "        mask_im_obj = get_mask(mask_url)\n",
    "        mask_im_arr = cv2.imdecode(mask_im_obj, flags=1)\n",
    "        im_box = get_box(box_url)        \n",
    "        \n",
    "        \n",
    "    except Exception as e:\n",
    "        # sometimes we run into a buffer exception from cv2\n",
    "        continue\n",
    "\n",
    "    #rotate image data 90 degrees CCW\n",
    "    mask_im_arr = np.rot90(mask_im_arr) \n",
    "    mask_im_arr = np.array(np.transpose(mask_im_arr, (1, 0, 2))[:, ::-1])\n",
    "    mask_im_arr = cv2.resize(mask_im_arr, (320,240))\n",
    "    mask_im_arr = mask_im_arr[:,:,0]\n",
    "    \n",
    "    x1,y1,x2,y2 = [int(i/2) for i in im_box]\n",
    "    mask_im_arr = mask_im_arr[y1:y2,x1:x2]\n",
    "    \n",
    "    sz_a, sz_b = list(np.shape(mask_im_arr))\n",
    "            \n",
    "    pix_res = sz_a * sz_b \n",
    "    pix = np.reshape(mask_im_arr, (pix_res,1))\n",
    "    \n",
    "    ############ POINTCLOUD BYTES #############\n",
    "\n",
    "    bbox_pos_pts = []\n",
    "    bbox_clr_pts = []\n",
    "    \n",
    "    # these are the bytes received from calling the pointcloud\n",
    "    arr = None\n",
    "    while True:\n",
    "        bytes += stream.read(2**14)\n",
    "        a = bytes.find(b'\\xff\\xd8\\xf1')\n",
    "        b = bytes.find(b'\\xff\\xd9\\xf2')\n",
    "        if a != -1 and b != -1:\n",
    "            data = bytes[a+3:b]\n",
    "            bytes = bytes[b+3:]\n",
    "            arr = np.frombuffer(data, dtype=np.float32)\n",
    "            arr = np.reshape(arr, (76800,3))  \n",
    "            break\n",
    "\n",
    "\n",
    "    #we use meshcat animation in order to read and plot data in realtime\n",
    "    anim = Animation()\n",
    "    c=0\n",
    "    with anim.at_frame(vis, 0) as frame:\n",
    "        c=c+1 #counter that sets an infinite animation\n",
    "\n",
    "    with anim.at_frame(vis, c) as frame:\n",
    "        #execute the animation\n",
    "        vis.set_animation(anim)\n",
    "        verts= arr.T\n",
    "\n",
    "    #transposed point cloud\n",
    "    pointclouds= verts.T\n",
    "    \n",
    "    \n",
    "    pointclouds = pointclouds.reshape(240,320,3)\n",
    "    clouds_cut = pointclouds[y1:y2,x1:x2,:]\n",
    "    clouds_cut = np.reshape(clouds_cut, (pix_res,3))\n",
    "    \n",
    "    X_ROT = RigidTransform()\n",
    "    X_ROT.set_translation(np.array([0.,0.,.5]))\n",
    "    X_ROT.set_rotation(RollPitchYaw(-np.pi/1.5,0,0).ToRotationMatrix())\n",
    "    \n",
    "\n",
    "    \n",
    "\n",
    "    #Filter the points corresponding to the cheezeit box in the point cloud. \n",
    "    for i,p in enumerate(pix):\n",
    "        if p > 0. :                 \n",
    "            bbox_pos_pts.append(clouds_cut[i])\n",
    "        else:\n",
    "            bbox_clr_pts.append(clouds_cut[i])\n",
    "        ###########################################################\n",
    "        pass\n",
    "\n",
    "    \n",
    "    \n",
    "\n",
    "    bbox_pos_pts = np.array(bbox_pos_pts) #context points\n",
    "    bbox_clr_pts = np.array(bbox_clr_pts) #detected object points\n",
    "    \n",
    "    \n",
    "    if len(bbox_pos_pts) > 0:\n",
    "        new_Point_cloud = X_ROT.multiply(bbox_pos_pts.T).T\n",
    "        new_All_Points = X_ROT.multiply(verts).T\n",
    "    else:\n",
    "        continue\n",
    "\n",
    "#     #converts list to tuple\n",
    "#     def convert(list): \n",
    "#         return tuple(list) \n",
    "\n",
    "#     ##OBB array\n",
    "#     bbpoints=[] #list for converted points\n",
    "#     ###\n",
    "#     #             bbpoints= bbox_pos_pts[1:]\n",
    "#     obb = OBB.build_from_points(new_Point_cloud)\n",
    "#     vis[\"sphere\"].set_object(g.Sphere(.001), \n",
    "#                              g.MeshLambertMaterial(\n",
    "#                                  color=0xc9eb34,\n",
    "#                                  reflectivity=0.8))\n",
    "#     ##render the center of mass \n",
    "#     vis[\"sphere\"].set_transform(\n",
    "#         tf.translation_matrix(obb.centroid))\n",
    "\n",
    "#     ##Render Bounding Box\n",
    "#     #bbox corners\n",
    "#     c=0\n",
    "#     bbpoints= obb.points\n",
    "#     for pt in bbpoints:\n",
    "#         vis[\"sph\"+str(c)].set_object(g.Sphere(.01), \n",
    "#                              g.MeshLambertMaterial(\n",
    "#                                  color=0xff0000,\n",
    "#                                  reflectivity=0.8))\n",
    "#         vis[\"sph\"+str(c)].set_transform(\n",
    "#         tf.translation_matrix(pt))\n",
    "#         c+=1\n",
    "\n",
    "#     #z_lines\n",
    "#     vertices1= np.transpose(np.array(bbpoints).astype(np.float32))\n",
    "#     vis['lines_segments1'].set_object(g.LineSegments(g.PointsGeometry(vertices1),g.MeshToonMaterial(color=0xff0000)))\n",
    "\n",
    "#     #ylines\n",
    "#     vertices2= np.transpose(np.array([bbpoints[1], bbpoints[2],bbpoints[0], bbpoints[3],bbpoints[5], bbpoints[6],bbpoints[4], bbpoints[7]]).astype(np.float32))\n",
    "#     vis['lines_segments2'].set_object(g.LineSegments(g.PointsGeometry(vertices2),g.MeshToonMaterial(color=0xff0000)))\n",
    "\n",
    "#     #xlines\n",
    "#     vertices3= np.transpose(np.array([bbpoints[0], bbpoints[5],bbpoints[1], bbpoints[4],bbpoints[3], bbpoints[6],bbpoints[2], bbpoints[7]]).astype(np.float32))\n",
    "#     vis['lines_segments3'].set_object(g.LineSegments(g.PointsGeometry(vertices3),g.MeshToonMaterial(color=0xff0000)))\n",
    "#     ##########################\n",
    "  \n",
    "\n",
    "    with anim.at_frame(vis, 0) as frame:\n",
    "        c=c+1 #counter that sets an infinite animation\n",
    "        with anim.at_frame(vis, c) as frame:\n",
    "            #execute the animation\n",
    "            vis.set_animation(anim)\n",
    "\n",
    "            #plot the points\n",
    "\n",
    "            vis['notfiltered'].set_object(g.PointCloud(position= new_All_Points.T, color=make_meshcat_color_array(new_All_Points.shape[0], 1,1,0),size= 0.001))\n",
    "            vis['filtered'].set_object(g.PointCloud(position= new_Point_cloud.T, color=make_meshcat_color_array(new_Point_cloud.shape[0], 1,0,0), size= 0.006))\n",
    "                          \n",
    "#     \n",
    "    #print(time.time() - time_start)\n",
    "    time_start = time.time()\n",
    "\n"
   ]
  },
  {
   "cell_type": "code",
   "execution_count": null,
   "metadata": {},
   "outputs": [],
   "source": []
  }
 ],
 "metadata": {
  "kernelspec": {
   "display_name": "Python 3",
   "language": "python",
   "name": "python3"
  },
  "language_info": {
   "codemirror_mode": {
    "name": "ipython",
    "version": 3
   },
   "file_extension": ".py",
   "mimetype": "text/x-python",
   "name": "python",
   "nbconvert_exporter": "python",
   "pygments_lexer": "ipython3",
   "version": "3.6.8"
  }
 },
 "nbformat": 4,
 "nbformat_minor": 2
}
