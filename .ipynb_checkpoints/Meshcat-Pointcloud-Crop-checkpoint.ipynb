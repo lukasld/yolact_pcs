{
 "cells": [
  {
   "cell_type": "code",
   "execution_count": 1,
   "metadata": {},
   "outputs": [],
   "source": [
    "##We need to run these cells in order to get all the necessary imports"
   ]
  },
  {
   "cell_type": "code",
   "execution_count": 2,
   "metadata": {},
   "outputs": [
    {
     "name": "stdout",
     "output_type": "stream",
     "text": [
      "Requirement already satisfied: requests in /usr/lib/python3/dist-packages (2.18.4)\n",
      "\u001b[33mWARNING: You are using pip version 19.2.3, however version 19.3.1 is available.\n",
      "You should consider upgrading via the 'pip install --upgrade pip' command.\u001b[0m\n",
      "Note: you may need to restart the kernel to use updated packages.\n"
     ]
    }
   ],
   "source": [
    "pip install requests"
   ]
  },
  {
   "cell_type": "code",
   "execution_count": 3,
   "metadata": {},
   "outputs": [
    {
     "name": "stdout",
     "output_type": "stream",
     "text": [
      "Requirement already satisfied: opencv-python in /usr/local/lib/python3.6/dist-packages (4.1.2.30)\n",
      "Requirement already satisfied: numpy>=1.11.3 in /usr/local/lib/python3.6/dist-packages (from opencv-python) (1.17.2)\n",
      "\u001b[33mWARNING: You are using pip version 19.2.3, however version 19.3.1 is available.\n",
      "You should consider upgrading via the 'pip install --upgrade pip' command.\u001b[0m\n",
      "Note: you may need to restart the kernel to use updated packages.\n"
     ]
    }
   ],
   "source": [
    "pip install opencv-python"
   ]
  },
  {
   "cell_type": "code",
   "execution_count": 4,
   "metadata": {},
   "outputs": [
    {
     "name": "stdout",
     "output_type": "stream",
     "text": [
      "Requirement already satisfied: pyobb in /usr/local/lib/python3.6/dist-packages (1.0.2)\n",
      "Requirement already satisfied: numpy>=1.12 in /usr/local/lib/python3.6/dist-packages (from pyobb) (1.17.2)\n",
      "\u001b[33mWARNING: You are using pip version 19.2.3, however version 19.3.1 is available.\n",
      "You should consider upgrading via the 'pip install --upgrade pip' command.\u001b[0m\n",
      "Note: you may need to restart the kernel to use updated packages.\n"
     ]
    }
   ],
   "source": [
    "pip install pyobb"
   ]
  },
  {
   "cell_type": "code",
   "execution_count": 5,
   "metadata": {},
   "outputs": [
    {
     "name": "stdout",
     "output_type": "stream",
     "text": [
      "Requirement already satisfied: Pillow==2.2.1 in /usr/local/lib/python3.6/dist-packages (2.2.1)\n",
      "\u001b[33mWARNING: You are using pip version 19.2.3, however version 19.3.1 is available.\n",
      "You should consider upgrading via the 'pip install --upgrade pip' command.\u001b[0m\n",
      "Note: you may need to restart the kernel to use updated packages.\n"
     ]
    }
   ],
   "source": [
    "pip install Pillow==2.2.1"
   ]
  },
  {
   "cell_type": "code",
   "execution_count": null,
   "metadata": {},
   "outputs": [
    {
     "name": "stdout",
     "output_type": "stream",
     "text": [
      "You can open the visualizer by visiting the following URL:\n",
      "http://127.0.0.1:7000/static/\n",
      "OpenCV(4.1.2) /io/opencv/modules/imgcodecs/src/loadsave.cpp:730: error: (-215:Assertion failed) !buf.empty() in function 'imdecode_'\n",
      "\n",
      "OpenCV(4.1.2) /io/opencv/modules/imgcodecs/src/loadsave.cpp:730: error: (-215:Assertion failed) !buf.empty() in function 'imdecode_'\n",
      "\n",
      "OpenCV(4.1.2) /io/opencv/modules/imgcodecs/src/loadsave.cpp:730: error: (-215:Assertion failed) !buf.empty() in function 'imdecode_'\n",
      "\n",
      "OpenCV(4.1.2) /io/opencv/modules/imgcodecs/src/loadsave.cpp:730: error: (-215:Assertion failed) !buf.empty() in function 'imdecode_'\n",
      "\n",
      "OpenCV(4.1.2) /io/opencv/modules/imgcodecs/src/loadsave.cpp:730: error: (-215:Assertion failed) !buf.empty() in function 'imdecode_'\n",
      "\n"
     ]
    }
   ],
   "source": [
    "import numpy as np\n",
    "import os\n",
    "import time\n",
    "import cv2\n",
    "import os\n",
    "import time\n",
    "import meshcat\n",
    "import meshcat.geometry as g\n",
    "import meshcat.transformations as tf\n",
    "import urllib.request\n",
    "from meshcat.animation import Animation\n",
    "from math import pi, cos, sin, sqrt\n",
    "from pyobb.obb import OBB\n",
    "from PIL import Image\n",
    "import matplotlib.pyplot as plt\n",
    "import requests\n",
    "\n",
    "\n",
    "vis = meshcat.Visualizer().open()\n",
    "\n",
    "#TODO input this in a while loop\n",
    "mask_url = \"http://10.150.0.37:5000/mask\" #mask url\n",
    "depth_url = 'http://10.150.0.37:5000/video_feed_dpt' #depth url\n",
    "\n",
    "stream = urllib.request.urlopen(depth_url)\n",
    "\n",
    "#arrays for segmented and unsegmented points\n",
    "bbox_pos_pts = []\n",
    "bbox_clr_pts = []\n",
    "\n",
    "\n",
    "time.sleep(1)\n",
    "time_start = time.time()\n",
    "end_b = str.encode('%')\n",
    "bytes = b''\n",
    "\n",
    "#we use a while loop in order to. continue listen to the port to get deth data\n",
    "while True:  # show streamed images until Ctrl-C\n",
    "#     time.sleep(.25)\n",
    "    #####MASKS CHUNK #############\n",
    "    \n",
    "    response = requests.get(mask_url)\n",
    "    \n",
    "    if response is not None:\n",
    "        \n",
    "        image = np.frombuffer(response.content, dtype=np.uint8)\n",
    "        try:\n",
    "            img = cv2.imdecode(image, flags=1)\n",
    "        \n",
    "        except Exception as e:\n",
    "            print(e)\n",
    "            continue\n",
    "\n",
    "        #rotate image data 90 degrees CCW\n",
    "        \n",
    "        maskImage= np.rot90(img) \n",
    "        imMsk = np.array(np.transpose(maskImage, (1, 0, 2))[:, ::-1])\n",
    "\n",
    "        imMsk = cv2.resize(imMsk, (320,240))\n",
    "        imMsk = imMsk[:,:,0]\n",
    "\n",
    "        #plt.figure(figsize=(16, 16))\n",
    "        canvas = (255 * imMsk).astype(np.uint8)\n",
    "\n",
    "        #plt.imshow(imMsk)\n",
    "        #plt.show()\n",
    "\n",
    "        pix= np.zeros([76800,2]).astype(np.uint8)\n",
    "        \n",
    "        imMsk= imMsk.flatten()\n",
    "\n",
    "        c=0\n",
    "        for p in imMsk:\n",
    "            pix[c]=np.array([p,0])\n",
    "            c+=1        \n",
    "            \n",
    "        ####END OF MASK CHUNK#########   \n",
    "    \n",
    "        bbox_pos_pts = []\n",
    "        bbox_clr_pts = []\n",
    "        bytes += stream.read(2**14)\n",
    "\n",
    "        a = bytes.find(b'\\xff\\xd8\\xf1')\n",
    "        b = bytes.find(b'\\xff\\xd9\\xf2')\n",
    "\n",
    "        if a != -1 and b != -1:\n",
    "\n",
    "            data = bytes[a+3:b]\n",
    "            bytes = bytes[b+3:]\n",
    "\n",
    "\n",
    "            arr = np.frombuffer(data, dtype=np.float32)\n",
    "            arr = np.reshape(arr, (76800,3))       \n",
    "\n",
    "\n",
    "            #we use meshcat animation in order to read and plot data in realtime\n",
    "            anim = Animation()\n",
    "            c=0\n",
    "            with anim.at_frame(vis, 0) as frame:\n",
    "                c=c+1 #counter that sets an infinite animation\n",
    "\n",
    "            with anim.at_frame(vis, c) as frame:\n",
    "                #execute the animation\n",
    "                vis.set_animation(anim)\n",
    "\n",
    "                verts= arr.T\n",
    "\n",
    "#             ######Uncomment for debugging purposes###############\n",
    "#             #plot the points\n",
    "#             vis.set_object(g.Points(\n",
    "#                 g.PointsGeometry(verts, color=verts),\n",
    "#                 g.PointsMaterial()\n",
    "#             ))\n",
    "            ####################################################\n",
    "\n",
    "            #transposed point cloud\n",
    "            pointclouds= verts.T\n",
    "\n",
    "            #Filter the points corresponding to the cheezeit box in the point cloud. \n",
    "            for i, (x,y) in enumerate(pix):\n",
    "\n",
    "                pix[int(x),int(y)]  \n",
    "\n",
    "                if pix[i][0] > 0. :                 \n",
    "\n",
    "                    bbox_pos_pts.append(pointclouds[i])\n",
    "                else:\n",
    "\n",
    "                    bbox_clr_pts.append(pointclouds[i])\n",
    "\n",
    "                ###########################################################\n",
    "                pass\n",
    "\n",
    "            bbox_pos_pts = np.array(bbox_pos_pts) #context points\n",
    "            bbox_clr_pts = np.array(bbox_clr_pts) #detected object points\n",
    "\n",
    "            '''\n",
    "            ORIENTED BOUNDING BOX AND CENTROID\n",
    "            '''\n",
    "            #converts list to tuple\n",
    "            def convert(list): \n",
    "                return tuple(list) \n",
    "\n",
    "            ##OBB array\n",
    "            bbpoints=[] #list for converted points\n",
    "            ###\n",
    "#             bbpoints= bbox_pos_pts[1:]\n",
    "            obb = OBB.build_from_points(bbox_pos_pts)\n",
    "            vis[\"sphere\"].set_object(g.Sphere(.001), \n",
    "                                     g.MeshLambertMaterial(\n",
    "                                         color=0xc9eb34,\n",
    "                                         reflectivity=0.8))\n",
    "            ##render the center of mass \n",
    "            vis[\"sphere\"].set_transform(\n",
    "                tf.translation_matrix(obb.centroid))\n",
    "\n",
    "            ##Render Bounding Box\n",
    "            #bbox corners\n",
    "            c=0\n",
    "            bbpoints= obb.points\n",
    "            for pt in bbpoints:\n",
    "                vis[\"sph\"+str(c)].set_object(g.Sphere(.01), \n",
    "                                     g.MeshLambertMaterial(\n",
    "                                         color=0xff0000,\n",
    "                                         reflectivity=0.8))\n",
    "                vis[\"sph\"+str(c)].set_transform(\n",
    "                tf.translation_matrix(pt))\n",
    "                c+=1\n",
    "\n",
    "            #z_lines\n",
    "            vertices1= np.transpose(np.array(bbpoints).astype(np.float32))\n",
    "            vis['lines_segments1'].set_object(g.LineSegments(g.PointsGeometry(vertices1),g.MeshToonMaterial(color=0xff0000)))\n",
    "\n",
    "            #ylines\n",
    "            vertices2= np.transpose(np.array([bbpoints[1], bbpoints[2],bbpoints[0], bbpoints[3],bbpoints[5], bbpoints[6],bbpoints[4], bbpoints[7]]).astype(np.float32))\n",
    "            vis['lines_segments2'].set_object(g.LineSegments(g.PointsGeometry(vertices2),g.MeshToonMaterial(color=0xff0000)))\n",
    "\n",
    "            #xlines\n",
    "            vertices3= np.transpose(np.array([bbpoints[0], bbpoints[5],bbpoints[1], bbpoints[4],bbpoints[3], bbpoints[6],bbpoints[2], bbpoints[7]]).astype(np.float32))\n",
    "            vis['lines_segments3'].set_object(g.LineSegments(g.PointsGeometry(vertices3),g.MeshToonMaterial(color=0xff0000)))\n",
    "            ##########################\n",
    "\n",
    "            with anim.at_frame(vis, 0) as frame:\n",
    "                c=c+1 #counter that sets an infinite animation\n",
    "                with anim.at_frame(vis, c) as frame:\n",
    "                    #execute the animation\n",
    "                    vis.set_animation(anim)\n",
    "\n",
    "                    #plot the points\n",
    "                    vis.set_object(g.Points(\n",
    "                        g.PointsGeometry(bbox_pos_pts.T, color=bbox_pos_pts.T),\n",
    "                        g.PointsMaterial()\n",
    "                    ))\n",
    "\n",
    "         \n"
   ]
  },
  {
   "cell_type": "code",
   "execution_count": null,
   "metadata": {},
   "outputs": [],
   "source": []
  }
 ],
 "metadata": {
  "kernelspec": {
   "display_name": "Python 3",
   "language": "python",
   "name": "python3"
  },
  "language_info": {
   "codemirror_mode": {
    "name": "ipython",
    "version": 3
   },
   "file_extension": ".py",
   "mimetype": "text/x-python",
   "name": "python",
   "nbconvert_exporter": "python",
   "pygments_lexer": "ipython3",
   "version": "3.6.8"
  }
 },
 "nbformat": 4,
 "nbformat_minor": 2
}
